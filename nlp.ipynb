{
 "cells": [
  {
   "cell_type": "code",
   "execution_count": 1,
   "metadata": {},
   "outputs": [],
   "source": [
    "from stanfordcorenlp import StanfordCoreNLP\n",
    "import json"
   ]
  },
  {
   "cell_type": "code",
   "execution_count": 2,
   "metadata": {},
   "outputs": [],
   "source": [
    "host='http://66.76.242.198'\n",
    "port=9888\n",
    "\n",
    "nlp = StanfordCoreNLP(host, port=port,timeout=30000)"
   ]
  },
  {
   "cell_type": "code",
   "execution_count": 3,
   "metadata": {},
   "outputs": [],
   "source": [
    "value = \"This is a test message.\""
   ]
  },
  {
   "cell_type": "code",
   "execution_count": 4,
   "metadata": {},
   "outputs": [],
   "source": [
    "props = {\n",
    "    'annotators': 'tokenize,ssplit,pos,lemma,ner,parse,depparse,dcoref,relation',\n",
    "    'pipelineLanguage': 'en',\n",
    "    'outputFormat': 'json'}\n",
    "\n",
    "tokn=nlp.word_tokenize(value)\n",
    "\n",
    "Pos=nlp.pos_tag(value)\n",
    "Ner=nlp.ner(value)\n",
    "Parse=nlp.parse(value)\n",
    "Dep_parse=nlp.dependency_parse(value)\n",
    "Json_data=json.loads(nlp.annotate(value, properties=props))"
   ]
  },
  {
   "cell_type": "code",
   "execution_count": 5,
   "metadata": {},
   "outputs": [
    {
     "data": {
      "text/plain": [
       "{'sentences': [{'index': 0,\n",
       "   'parse': '(ROOT\\n  (S\\n    (NP (DT This))\\n    (VP (VBZ is)\\n      (NP (DT a) (NN test) (NN message)))\\n    (. .)))',\n",
       "   'basicDependencies': [{'dep': 'ROOT',\n",
       "     'governor': 0,\n",
       "     'governorGloss': 'ROOT',\n",
       "     'dependent': 5,\n",
       "     'dependentGloss': 'message'},\n",
       "    {'dep': 'nsubj',\n",
       "     'governor': 5,\n",
       "     'governorGloss': 'message',\n",
       "     'dependent': 1,\n",
       "     'dependentGloss': 'This'},\n",
       "    {'dep': 'cop',\n",
       "     'governor': 5,\n",
       "     'governorGloss': 'message',\n",
       "     'dependent': 2,\n",
       "     'dependentGloss': 'is'},\n",
       "    {'dep': 'det',\n",
       "     'governor': 5,\n",
       "     'governorGloss': 'message',\n",
       "     'dependent': 3,\n",
       "     'dependentGloss': 'a'},\n",
       "    {'dep': 'compound',\n",
       "     'governor': 5,\n",
       "     'governorGloss': 'message',\n",
       "     'dependent': 4,\n",
       "     'dependentGloss': 'test'},\n",
       "    {'dep': 'punct',\n",
       "     'governor': 5,\n",
       "     'governorGloss': 'message',\n",
       "     'dependent': 6,\n",
       "     'dependentGloss': '.'}],\n",
       "   'enhancedDependencies': [{'dep': 'ROOT',\n",
       "     'governor': 0,\n",
       "     'governorGloss': 'ROOT',\n",
       "     'dependent': 5,\n",
       "     'dependentGloss': 'message'},\n",
       "    {'dep': 'nsubj',\n",
       "     'governor': 5,\n",
       "     'governorGloss': 'message',\n",
       "     'dependent': 1,\n",
       "     'dependentGloss': 'This'},\n",
       "    {'dep': 'cop',\n",
       "     'governor': 5,\n",
       "     'governorGloss': 'message',\n",
       "     'dependent': 2,\n",
       "     'dependentGloss': 'is'},\n",
       "    {'dep': 'det',\n",
       "     'governor': 5,\n",
       "     'governorGloss': 'message',\n",
       "     'dependent': 3,\n",
       "     'dependentGloss': 'a'},\n",
       "    {'dep': 'compound',\n",
       "     'governor': 5,\n",
       "     'governorGloss': 'message',\n",
       "     'dependent': 4,\n",
       "     'dependentGloss': 'test'},\n",
       "    {'dep': 'punct',\n",
       "     'governor': 5,\n",
       "     'governorGloss': 'message',\n",
       "     'dependent': 6,\n",
       "     'dependentGloss': '.'}],\n",
       "   'enhancedPlusPlusDependencies': [{'dep': 'ROOT',\n",
       "     'governor': 0,\n",
       "     'governorGloss': 'ROOT',\n",
       "     'dependent': 5,\n",
       "     'dependentGloss': 'message'},\n",
       "    {'dep': 'nsubj',\n",
       "     'governor': 5,\n",
       "     'governorGloss': 'message',\n",
       "     'dependent': 1,\n",
       "     'dependentGloss': 'This'},\n",
       "    {'dep': 'cop',\n",
       "     'governor': 5,\n",
       "     'governorGloss': 'message',\n",
       "     'dependent': 2,\n",
       "     'dependentGloss': 'is'},\n",
       "    {'dep': 'det',\n",
       "     'governor': 5,\n",
       "     'governorGloss': 'message',\n",
       "     'dependent': 3,\n",
       "     'dependentGloss': 'a'},\n",
       "    {'dep': 'compound',\n",
       "     'governor': 5,\n",
       "     'governorGloss': 'message',\n",
       "     'dependent': 4,\n",
       "     'dependentGloss': 'test'},\n",
       "    {'dep': 'punct',\n",
       "     'governor': 5,\n",
       "     'governorGloss': 'message',\n",
       "     'dependent': 6,\n",
       "     'dependentGloss': '.'}],\n",
       "   'entitymentions': [],\n",
       "   'tokens': [{'index': 1,\n",
       "     'word': 'This',\n",
       "     'originalText': 'This',\n",
       "     'lemma': 'this',\n",
       "     'characterOffsetBegin': 0,\n",
       "     'characterOffsetEnd': 4,\n",
       "     'pos': 'DT',\n",
       "     'ner': 'O',\n",
       "     'speaker': 'PER0',\n",
       "     'before': '',\n",
       "     'after': ' '},\n",
       "    {'index': 2,\n",
       "     'word': 'is',\n",
       "     'originalText': 'is',\n",
       "     'lemma': 'be',\n",
       "     'characterOffsetBegin': 5,\n",
       "     'characterOffsetEnd': 7,\n",
       "     'pos': 'VBZ',\n",
       "     'ner': 'O',\n",
       "     'speaker': 'PER0',\n",
       "     'before': ' ',\n",
       "     'after': ' '},\n",
       "    {'index': 3,\n",
       "     'word': 'a',\n",
       "     'originalText': 'a',\n",
       "     'lemma': 'a',\n",
       "     'characterOffsetBegin': 8,\n",
       "     'characterOffsetEnd': 9,\n",
       "     'pos': 'DT',\n",
       "     'ner': 'O',\n",
       "     'speaker': 'PER0',\n",
       "     'before': ' ',\n",
       "     'after': ' '},\n",
       "    {'index': 4,\n",
       "     'word': 'test',\n",
       "     'originalText': 'test',\n",
       "     'lemma': 'test',\n",
       "     'characterOffsetBegin': 10,\n",
       "     'characterOffsetEnd': 14,\n",
       "     'pos': 'NN',\n",
       "     'ner': 'O',\n",
       "     'speaker': 'PER0',\n",
       "     'before': ' ',\n",
       "     'after': ' '},\n",
       "    {'index': 5,\n",
       "     'word': 'message',\n",
       "     'originalText': 'message',\n",
       "     'lemma': 'message',\n",
       "     'characterOffsetBegin': 15,\n",
       "     'characterOffsetEnd': 22,\n",
       "     'pos': 'NN',\n",
       "     'ner': 'O',\n",
       "     'speaker': 'PER0',\n",
       "     'before': ' ',\n",
       "     'after': ''},\n",
       "    {'index': 6,\n",
       "     'word': '.',\n",
       "     'originalText': '.',\n",
       "     'lemma': '.',\n",
       "     'characterOffsetBegin': 22,\n",
       "     'characterOffsetEnd': 23,\n",
       "     'pos': '.',\n",
       "     'ner': 'O',\n",
       "     'speaker': 'PER0',\n",
       "     'before': '',\n",
       "     'after': ''}]}],\n",
       " 'corefs': {'1': [{'id': 1,\n",
       "    'text': 'This',\n",
       "    'type': 'NOMINAL',\n",
       "    'number': 'UNKNOWN',\n",
       "    'gender': 'NEUTRAL',\n",
       "    'animacy': 'UNKNOWN',\n",
       "    'startIndex': 1,\n",
       "    'endIndex': 2,\n",
       "    'headIndex': 1,\n",
       "    'sentNum': 1,\n",
       "    'position': [1, 1],\n",
       "    'isRepresentativeMention': False},\n",
       "   {'id': 2,\n",
       "    'text': 'a test message',\n",
       "    'type': 'NOMINAL',\n",
       "    'number': 'SINGULAR',\n",
       "    'gender': 'UNKNOWN',\n",
       "    'animacy': 'INANIMATE',\n",
       "    'startIndex': 3,\n",
       "    'endIndex': 6,\n",
       "    'headIndex': 5,\n",
       "    'sentNum': 1,\n",
       "    'position': [1, 2],\n",
       "    'isRepresentativeMention': True}]}}"
      ]
     },
     "execution_count": 5,
     "metadata": {},
     "output_type": "execute_result"
    }
   ],
   "source": [
    "Json_data"
   ]
  },
  {
   "cell_type": "code",
   "execution_count": 6,
   "metadata": {},
   "outputs": [
    {
     "data": {
      "text/plain": [
       "'(ROOT\\n  (S\\n    (NP (DT This))\\n    (VP (VBZ is)\\n      (NP (DT a) (NN test) (NN message)))\\n    (. .)))'"
      ]
     },
     "execution_count": 6,
     "metadata": {},
     "output_type": "execute_result"
    }
   ],
   "source": [
    "Parse"
   ]
  },
  {
   "cell_type": "code",
   "execution_count": 7,
   "metadata": {},
   "outputs": [
    {
     "data": {
      "text/plain": [
       "['This', 'is', 'a', 'test', 'message', '.']"
      ]
     },
     "execution_count": 7,
     "metadata": {},
     "output_type": "execute_result"
    }
   ],
   "source": [
    "tokn"
   ]
  },
  {
   "cell_type": "code",
   "execution_count": 8,
   "metadata": {},
   "outputs": [],
   "source": [
    "from nltk.tree import *"
   ]
  },
  {
   "cell_type": "code",
   "execution_count": 9,
   "metadata": {},
   "outputs": [],
   "source": [
    "parse_tree = ParentedTree.fromstring(Parse)"
   ]
  },
  {
   "cell_type": "code",
   "execution_count": 10,
   "metadata": {},
   "outputs": [
    {
     "name": "stdout",
     "output_type": "stream",
     "text": [
      "         ROOT                     \n",
      "          |                        \n",
      "          S                       \n",
      "  ________|_____________________   \n",
      " |             VP               | \n",
      " |     ________|___             |  \n",
      " NP   |            NP           | \n",
      " |    |    ________|______      |  \n",
      " DT  VBZ  DT       NN     NN    . \n",
      " |    |   |        |      |     |  \n",
      "This  is  a       test message  . \n",
      "\n"
     ]
    },
    {
     "data": {
      "text/plain": [
       "NoneType"
      ]
     },
     "execution_count": 10,
     "metadata": {},
     "output_type": "execute_result"
    }
   ],
   "source": [
    "type(parse_tree.pretty_print())"
   ]
  },
  {
   "cell_type": "code",
   "execution_count": 11,
   "metadata": {},
   "outputs": [
    {
     "data": {
      "image/png": "[encoded data removed]",
      "text/plain": [
       "ParentedTree('ROOT', [ParentedTree('S', [ParentedTree('NP', [ParentedTree('DT', ['This'])]), ParentedTree('VP', [ParentedTree('VBZ', ['is']), ParentedTree('NP', [ParentedTree('DT', ['a']), ParentedTree('NN', ['test']), ParentedTree('NN', ['message'])])]), ParentedTree('.', ['.'])])])"
      ]
     },
     "execution_count": 11,
     "metadata": {},
     "output_type": "execute_result"
    }
   ],
   "source": [
    "parse_tree"
   ]
  },
  {
   "cell_type": "code",
   "execution_count": 12,
   "metadata": {},
   "outputs": [],
   "source": [
    "from nltk.draw.tree import TreeView"
   ]
  },
  {
   "cell_type": "code",
   "execution_count": 13,
   "metadata": {},
   "outputs": [],
   "source": [
    "TreeView(parse_tree)._cframe.print_to_file('output.ps')"
   ]
  },
  {
   "cell_type": "code",
   "execution_count": 14,
   "metadata": {},
   "outputs": [
    {
     "data": {
      "text/plain": [
       "32512"
      ]
     },
     "execution_count": 14,
     "metadata": {},
     "output_type": "execute_result"
    }
   ],
   "source": [
    "import os\n",
    "os.system('convert output.ps output.png')"
   ]
  },
  {
   "cell_type": "code",
   "execution_count": 15,
   "metadata": {},
   "outputs": [],
   "source": [
    "from PIL import Image\n",
    "\n",
    "psimage=Image.open('output.ps')\n",
    "psimage.save('output.png')"
   ]
  },
  {
   "cell_type": "code",
   "execution_count": 16,
   "metadata": {},
   "outputs": [],
   "source": [
    "parse_tree = ParentedTree.fromstring(Parse)"
   ]
  },
  {
   "cell_type": "code",
   "execution_count": 17,
   "metadata": {},
   "outputs": [],
   "source": [
    "from nltk.treeprettyprinter import TreePrettyPrinter\n",
    "pretty_tree = TreePrettyPrinter(parse_tree).text()"
   ]
  },
  {
   "cell_type": "code",
   "execution_count": 18,
   "metadata": {},
   "outputs": [
    {
     "name": "stdout",
     "output_type": "stream",
     "text": [
      "NLP Parse: \n",
      "          ROOT                     \n",
      "          |                        \n",
      "          S                       \n",
      "  ________|_____________________   \n",
      " |             VP               | \n",
      " |     ________|___             |  \n",
      " NP   |            NP           | \n",
      " |    |    ________|______      |  \n",
      " DT  VBZ  DT       NN     NN    . \n",
      " |    |   |        |      |     |  \n",
      "This  is  a       test message  . \n",
      "\n"
     ]
    }
   ],
   "source": [
    "print(\"NLP Parse: \\n {}\".format(pretty_tree))"
   ]
  },
  {
   "cell_type": "code",
   "execution_count": 19,
   "metadata": {},
   "outputs": [
    {
     "data": {
      "text/plain": [
       "'         ROOT                     \\n          |                        \\n          S                       \\n  ________|_____________________   \\n |             VP               | \\n |     ________|___             |  \\n NP   |            NP           | \\n |    |    ________|______      |  \\n DT  VBZ  DT       NN     NN    . \\n |    |   |        |      |     |  \\nThis  is  a       test message  . \\n'"
      ]
     },
     "execution_count": 19,
     "metadata": {},
     "output_type": "execute_result"
    }
   ],
   "source": [
    "pretty_tree"
   ]
  },
  {
   "cell_type": "code",
   "execution_count": 21,
   "metadata": {},
   "outputs": [],
   "source": [
    "tree = pretty_tree.split(\"\\n\")"
   ]
  },
  {
   "cell_type": "code",
   "execution_count": 22,
   "metadata": {},
   "outputs": [
    {
     "data": {
      "text/plain": [
       "['         ROOT                     ',\n",
       " '          |                        ',\n",
       " '          S                       ',\n",
       " '  ________|_____________________   ',\n",
       " ' |             VP               | ',\n",
       " ' |     ________|___             |  ',\n",
       " ' NP   |            NP           | ',\n",
       " ' |    |    ________|______      |  ',\n",
       " ' DT  VBZ  DT       NN     NN    . ',\n",
       " ' |    |   |        |      |     |  ',\n",
       " 'This  is  a       test message  . ',\n",
       " '']"
      ]
     },
     "execution_count": 22,
     "metadata": {},
     "output_type": "execute_result"
    }
   ],
   "source": [
    "tree"
   ]
  },
  {
   "cell_type": "code",
   "execution_count": 23,
   "metadata": {},
   "outputs": [
    {
     "name": "stdout",
     "output_type": "stream",
     "text": [
      "         ROOT                     \n",
      "          |                        \n",
      "          S                       \n",
      "  ________|_____________________   \n",
      " |             VP               | \n",
      " |     ________|___             |  \n",
      " NP   |            NP           | \n",
      " |    |    ________|______      |  \n",
      " DT  VBZ  DT       NN     NN    . \n",
      " |    |   |        |      |     |  \n",
      "This  is  a       test message  . \n",
      "\n"
     ]
    }
   ],
   "source": [
    "print(*tree, sep = \"\\n\")"
   ]
  },
  {
   "cell_type": "code",
   "execution_count": 27,
   "metadata": {},
   "outputs": [
    {
     "name": "stdout",
     "output_type": "stream",
     "text": [
      "*********ROOT*********************\n",
      "**********|************************\n",
      "**********S***********************\n",
      "**________|_____________________***\n",
      "*|*************VP***************|*\n",
      "*|*****________|___*************|**\n",
      "*NP***|************NP***********|*\n",
      "*|****|****________|______******|**\n",
      "*DT**VBZ**DT*******NN*****NN****.*\n",
      "*|****|***|********|******|*****|**\n",
      "This**is**a*******test*message**.*\n",
      "\n"
     ]
    }
   ],
   "source": [
    "import re\n",
    "parse_print = '\\n'.join(tree)\n",
    "parse_print = re.sub(\" \", \"*\", parse_print)"
   ]
  },
  {
   "cell_type": "code",
   "execution_count": null,
   "metadata": {},
   "outputs": [],
   "source": []
  }
 ],
 "metadata": {
  "kernelspec": {
   "display_name": "Python 3",
   "language": "python",
   "name": "python3"
  },
  "language_info": {
   "codemirror_mode": {
    "name": "ipython",
    "version": 3
   },
   "file_extension": ".py",
   "mimetype": "text/x-python",
   "name": "python",
   "nbconvert_exporter": "python",
   "pygments_lexer": "ipython3",
   "version": "3.8.3"
  }
 },
 "nbformat": 4,
 "nbformat_minor": 4
}
